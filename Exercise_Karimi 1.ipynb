{
 "cells": [
  {
   "cell_type": "code",
   "execution_count": null,
   "id": "d24be257",
   "metadata": {
    "colab": {
     "base_uri": "https://localhost:8080/"
    },
    "executionInfo": {
     "elapsed": 363,
     "status": "ok",
     "timestamp": 1629827741668,
     "user": {
      "displayName": "mehrnosh ka",
      "photoUrl": "https://lh3.googleusercontent.com/a-/AOh14GjLR9fa90VorDlU1KaOLQbtRe_z3xiEK6cQDH9nWA=s64",
      "userId": "16791551701072887204"
     },
     "user_tz": 420
    },
    "id": "d24be257",
    "outputId": "e9521b4b-0680-4170-8d51-6b62170984d4"
   },
   "outputs": [
    {
     "name": "stdout",
     "output_type": "stream",
     "text": [
      "3\n",
      "4\n"
     ]
    }
   ],
   "source": [
    "# Arethmatic operators\n",
    "\n",
    "print(15//4)\n",
    "\n",
    "print(24 % 5)"
   ]
  },
  {
   "cell_type": "code",
   "execution_count": null,
   "id": "a4a18b7b",
   "metadata": {
    "colab": {
     "base_uri": "https://localhost:8080/"
    },
    "executionInfo": {
     "elapsed": 352,
     "status": "ok",
     "timestamp": 1629827748162,
     "user": {
      "displayName": "mehrnosh ka",
      "photoUrl": "https://lh3.googleusercontent.com/a-/AOh14GjLR9fa90VorDlU1KaOLQbtRe_z3xiEK6cQDH9nWA=s64",
      "userId": "16791551701072887204"
     },
     "user_tz": 420
    },
    "id": "a4a18b7b",
    "outputId": "072528f3-c7d7-409b-c588-6222ae670abd"
   },
   "outputs": [
    {
     "name": "stdout",
     "output_type": "stream",
     "text": [
      "18.0\n",
      "False\n",
      "False\n"
     ]
    }
   ],
   "source": [
    "\n",
    "a = 1\n",
    "b = 5\n",
    "c = 15\n",
    "d = 5\n",
    "e = 0\n",
    "\n",
    "e = (a + b) * c / d\n",
    "print(e)\n",
    "\n",
    "\n",
    "x = 4\n",
    "print(x == 3*2 )\n",
    "\n",
    "x = 6\n",
    "print(4 * 2 - 2 != x)"
   ]
  },
  {
   "cell_type": "code",
   "execution_count": null,
   "id": "ed577d06",
   "metadata": {
    "colab": {
     "base_uri": "https://localhost:8080/"
    },
    "executionInfo": {
     "elapsed": 392,
     "status": "ok",
     "timestamp": 1629827787354,
     "user": {
      "displayName": "mehrnosh ka",
      "photoUrl": "https://lh3.googleusercontent.com/a-/AOh14GjLR9fa90VorDlU1KaOLQbtRe_z3xiEK6cQDH9nWA=s64",
      "userId": "16791551701072887204"
     },
     "user_tz": 420
    },
    "id": "ed577d06",
    "outputId": "2d98a4c2-17f7-4b2c-806f-eab866acecfa"
   },
   "outputs": [
    {
     "name": "stdout",
     "output_type": "stream",
     "text": [
      "True\n",
      "False\n",
      "True\n",
      "True\n",
      "False\n"
     ]
    }
   ],
   "source": [
    "#logical operators\n",
    "## Try to underestand the answers\n",
    "\n",
    "print(not not ((5 >= 4) and (7 > 6.9)))\n",
    "\n",
    "print((3 > 7.6) and (3.2 != 5.5))\n",
    "\n",
    "print( (3 > 7.6) or (3.2 != 5.5))\n",
    "\n",
    "print(True and (2 <= 7.8))\n",
    "\n",
    "x == 1\n",
    "print(not x)"
   ]
  },
  {
   "cell_type": "code",
   "execution_count": null,
   "id": "bbbcecfc",
   "metadata": {
    "colab": {
     "base_uri": "https://localhost:8080/"
    },
    "executionInfo": {
     "elapsed": 412,
     "status": "ok",
     "timestamp": 1629827836500,
     "user": {
      "displayName": "mehrnosh ka",
      "photoUrl": "https://lh3.googleusercontent.com/a-/AOh14GjLR9fa90VorDlU1KaOLQbtRe_z3xiEK6cQDH9nWA=s64",
      "userId": "16791551701072887204"
     },
     "user_tz": 420
    },
    "id": "bbbcecfc",
    "outputId": "dc496ff1-4abd-4997-b639-cb5b4e15cbc8"
   },
   "outputs": [
    {
     "name": "stdout",
     "output_type": "stream",
     "text": [
      "[1, (2+3j), 25]\n",
      "cat\n"
     ]
    }
   ],
   "source": [
    "my_list = ['giraffe', 'dog', 34.3, 'cat', 52+2j, [1, 2+3j, 5**2] ]\n",
    "\n",
    "print(my_list[-1])   # learn how negetive indexing works in python specially my_list[-1]\n",
    "print(my_list[-3])"
   ]
  },
  {
   "cell_type": "code",
   "execution_count": null,
   "id": "b061d785",
   "metadata": {
    "colab": {
     "base_uri": "https://localhost:8080/"
    },
    "executionInfo": {
     "elapsed": 373,
     "status": "ok",
     "timestamp": 1629827887655,
     "user": {
      "displayName": "mehrnosh ka",
      "photoUrl": "https://lh3.googleusercontent.com/a-/AOh14GjLR9fa90VorDlU1KaOLQbtRe_z3xiEK6cQDH9nWA=s64",
      "userId": "16791551701072887204"
     },
     "user_tz": 420
    },
    "id": "b061d785",
    "outputId": "88342af4-ee99-49c1-e981-73fde0097785"
   },
   "outputs": [
    {
     "name": "stdout",
     "output_type": "stream",
     "text": [
      "False\n"
     ]
    }
   ],
   "source": [
    "x = \"Fun with Python\"\n",
    "print(\"fun\" in x)\n",
    " "
   ]
  },
  {
   "cell_type": "code",
   "execution_count": null,
   "id": "3a79233e",
   "metadata": {
    "colab": {
     "base_uri": "https://localhost:8080/"
    },
    "executionInfo": {
     "elapsed": 615,
     "status": "ok",
     "timestamp": 1629827902633,
     "user": {
      "displayName": "mehrnosh ka",
      "photoUrl": "https://lh3.googleusercontent.com/a-/AOh14GjLR9fa90VorDlU1KaOLQbtRe_z3xiEK6cQDH9nWA=s64",
      "userId": "16791551701072887204"
     },
     "user_tz": 420
    },
    "id": "3a79233e",
    "outputId": "8186b3c6-bc70-4ad1-8309-b9623ddf4eff"
   },
   "outputs": [
    {
     "name": "stdout",
     "output_type": "stream",
     "text": [
      "sum of 10 and 20 is 30\n",
      "sum of 10 and 20 is 30\n",
      "a is 20 b is 10\n"
     ]
    }
   ],
   "source": [
    "a = 10\n",
    "b = 20\n",
    "c = a + b\n",
    "\n",
    "#Normal string concatenation\n",
    "print(\"sum of\", a , \"and\" , b , \"is\" , c) \n",
    "\n",
    "#convert variable into str\n",
    "print(\"sum of \" + str(a) + \" and \" + str(b) + \" is \" + str(c)) \n",
    "\n",
    "# change variable value \n",
    "print(\"a is\",b,\"b is\", a) \n",
    "\n"
   ]
  },
  {
   "cell_type": "code",
   "execution_count": null,
   "id": "ad7dfc53",
   "metadata": {
    "colab": {
     "base_uri": "https://localhost:8080/"
    },
    "executionInfo": {
     "elapsed": 394,
     "status": "ok",
     "timestamp": 1629827926856,
     "user": {
      "displayName": "mehrnosh ka",
      "photoUrl": "https://lh3.googleusercontent.com/a-/AOh14GjLR9fa90VorDlU1KaOLQbtRe_z3xiEK6cQDH9nWA=s64",
      "userId": "16791551701072887204"
     },
     "user_tz": 420
    },
    "id": "ad7dfc53",
    "outputId": "2cdd0d56-3c19-4b67-85a1-2fc7b01bf7a3"
   },
   "outputs": [
    {
     "name": "stdout",
     "output_type": "stream",
     "text": [
      "false\n"
     ]
    }
   ],
   "source": [
    "if \"Hel\" in \"hello\" or 6 % 2:   # underestand the condition when we say 6%2\n",
    "    print('true')\n",
    "else:\n",
    "    print('false')"
   ]
  },
  {
   "cell_type": "code",
   "execution_count": null,
   "id": "d31ecbb8",
   "metadata": {
    "colab": {
     "base_uri": "https://localhost:8080/"
    },
    "executionInfo": {
     "elapsed": 393,
     "status": "ok",
     "timestamp": 1629828048851,
     "user": {
      "displayName": "mehrnosh ka",
      "photoUrl": "https://lh3.googleusercontent.com/a-/AOh14GjLR9fa90VorDlU1KaOLQbtRe_z3xiEK6cQDH9nWA=s64",
      "userId": "16791551701072887204"
     },
     "user_tz": 420
    },
    "id": "d31ecbb8",
    "outputId": "4f35faf8-b013-4c51-dc4c-77ab945d4d38"
   },
   "outputs": [
    {
     "name": "stdout",
     "output_type": "stream",
     "text": [
      "false\n"
     ]
    }
   ],
   "source": [
    "my_list = [ 'dog', 'cat', 'giraffe', 'cow']  # pay attention to the difference between searching in a string and in a list\n",
    "if 'ow' in my_list:\n",
    "    print('true')\n",
    "else:\n",
    "    print('false')\n",
    "\n"
   ]
  },
  {
   "cell_type": "markdown",
   "id": "a27efcc0",
   "metadata": {
    "id": "a27efcc0"
   },
   "source": [
    "1. compute the average of the following list\n",
    "- lst = [15, 9, 20, 41, 35, 20, 62, 42.5]\n"
   ]
  },
  {
   "cell_type": "markdown",
   "id": "2330737a",
   "metadata": {},
   "source": [
    "# &#9745;"
   ]
  },
  {
   "cell_type": "code",
   "execution_count": 12,
   "id": "eac4d272",
   "metadata": {
    "colab": {
     "base_uri": "https://localhost:8080/"
    },
    "executionInfo": {
     "elapsed": 423,
     "status": "ok",
     "timestamp": 1629742036850,
     "user": {
      "displayName": "mehrnosh ka",
      "photoUrl": "https://lh3.googleusercontent.com/a-/AOh14GjLR9fa90VorDlU1KaOLQbtRe_z3xiEK6cQDH9nWA=s64",
      "userId": "16791551701072887204"
     },
     "user_tz": 420
    },
    "id": "eac4d272",
    "outputId": "fe36fb0b-ccfa-460b-ae0d-14fc12215741"
   },
   "outputs": [
    {
     "name": "stdout",
     "output_type": "stream",
     "text": [
      "30.5625\n"
     ]
    }
   ],
   "source": [
    "lst = [15, 9, 20, 41, 35, 20, 62, 42.5]\n",
    "x= len(lst)\n",
    "i=0\n",
    "sum=0\n",
    "while i<x:\n",
    "    sum=lst[i]+sum\n",
    "    i+=1\n",
    "print(sum/x)"
   ]
  },
  {
   "cell_type": "markdown",
   "id": "0c480c27",
   "metadata": {
    "id": "0c480c27"
   },
   "source": [
    "2. write a program that asks the user for a positive integer between 1 and 7 and also prints the day of week corresponding to that number in all capital letters. For example when the user enters 1, it will print out MONDAY, or if the user enters 3, it will print out WEDNESDAY \n"
   ]
  },
  {
   "cell_type": "markdown",
   "id": "adcdb3f5",
   "metadata": {},
   "source": [
    "$\\color{red}{\\text{you should have written days like this: }}$\n",
    "$\\color{red}{\\text{['MONDAY','TUESDAY','WEDNESDAY','THURSDAY','FRIDAY','SATURDAY','SUNDAY']}}$\n",
    "$\\color{red}{\\text{as I said in the example if you enter 1, it prints out MONDAY}}$"
   ]
  },
  {
   "cell_type": "code",
   "execution_count": 15,
   "id": "babf91bd",
   "metadata": {
    "colab": {
     "base_uri": "https://localhost:8080/"
    },
    "executionInfo": {
     "elapsed": 4168,
     "status": "ok",
     "timestamp": 1629826313685,
     "user": {
      "displayName": "mehrnosh ka",
      "photoUrl": "https://lh3.googleusercontent.com/a-/AOh14GjLR9fa90VorDlU1KaOLQbtRe_z3xiEK6cQDH9nWA=s64",
      "userId": "16791551701072887204"
     },
     "user_tz": 420
    },
    "id": "babf91bd",
    "outputId": "42edf1b2-a16b-4c89-e097-e8969dd0e383"
   },
   "outputs": [
    {
     "name": "stdout",
     "output_type": "stream",
     "text": [
      "inter your integer number between 1 to 7: 1\n",
      "SUNDAY\n"
     ]
    }
   ],
   "source": [
    "week=['SUNDAY', 'MONDAY','TUESDAY','WEDNESDAY','THURSDAY','FRIDAY','SATURDAY']\n",
    "numm= input('inter your integer number between 1 to 7: ')\n",
    "num=int(numm)-1\n",
    "print(week[num])"
   ]
  },
  {
   "cell_type": "markdown",
   "id": "05206222",
   "metadata": {},
   "source": [
    "# &#9745;"
   ]
  },
  {
   "cell_type": "markdown",
   "id": "45484425",
   "metadata": {
    "id": "45484425"
   },
   "source": [
    "3. Write a program that asks the user to enter an integer number.\n",
    "- If the input number is 12, your program should print \"twelve\"\n",
    "- If the input number is 60, your program should print \"sixty\"\n",
    "- If the input number is 5, your program should print \"five\"\n",
    "- Otherwise the program prints \"other\""
   ]
  },
  {
   "cell_type": "code",
   "execution_count": 16,
   "id": "0fddc8f1",
   "metadata": {
    "colab": {
     "base_uri": "https://localhost:8080/"
    },
    "executionInfo": {
     "elapsed": 4570,
     "status": "ok",
     "timestamp": 1629826609011,
     "user": {
      "displayName": "mehrnosh ka",
      "photoUrl": "https://lh3.googleusercontent.com/a-/AOh14GjLR9fa90VorDlU1KaOLQbtRe_z3xiEK6cQDH9nWA=s64",
      "userId": "16791551701072887204"
     },
     "user_tz": 420
    },
    "id": "0fddc8f1",
    "outputId": "256401a2-7557-423f-e6d7-b1158a28e698"
   },
   "outputs": [
    {
     "name": "stdout",
     "output_type": "stream",
     "text": [
      "inter your integer number 15\n",
      "other\n"
     ]
    }
   ],
   "source": [
    "numm= input('inter your integer number ')\n",
    "num=int(numm)\n",
    "if num==12:\n",
    "    print('twelve')\n",
    "elif num==60:\n",
    "    print('sixty')\n",
    "elif num==5:\n",
    "    print('five')\n",
    "else:\n",
    "    print('other')"
   ]
  },
  {
   "cell_type": "markdown",
   "id": "12e2a64f",
   "metadata": {
    "id": "12e2a64f"
   },
   "source": [
    "4. Write a program that asks the user to enter their age (for example: 18) and print the output exactly like the following format:\n",
    "    \n",
    "- When the age is less than or equal to 0, print \"UNBORN\"\n",
    "- when the age is more than 0, less or equal than 150, print \"ALIVE\"\n",
    "- when the age is more than 150, print \"Fossile\""
   ]
  },
  {
   "cell_type": "markdown",
   "id": "0cee13ae",
   "metadata": {},
   "source": [
    "$\\color{red}{\\text{Less or equal to 150 is still alive}}$."
   ]
  },
  {
   "cell_type": "code",
   "execution_count": 54,
   "id": "23c45618",
   "metadata": {
    "colab": {
     "base_uri": "https://localhost:8080/"
    },
    "executionInfo": {
     "elapsed": 4006,
     "status": "ok",
     "timestamp": 1629826797232,
     "user": {
      "displayName": "mehrnosh ka",
      "photoUrl": "https://lh3.googleusercontent.com/a-/AOh14GjLR9fa90VorDlU1KaOLQbtRe_z3xiEK6cQDH9nWA=s64",
      "userId": "16791551701072887204"
     },
     "user_tz": 420
    },
    "id": "23c45618",
    "outputId": "53570105-5cd7-4ab8-cec4-9f55ca8e4a06"
   },
   "outputs": [
    {
     "name": "stdout",
     "output_type": "stream",
     "text": [
      "inter your age 150\n",
      "Fossile\n"
     ]
    }
   ],
   "source": [
    "age= input('inter your age ')\n",
    "num=int(age)\n",
    "if num<=0:\n",
    "  print('UNBORN')\n",
    "elif num>0 and num<150:\n",
    "  print('ALIVE')\n",
    "else:\n",
    "  print('Fossile')"
   ]
  },
  {
   "cell_type": "markdown",
   "id": "8ded96ff",
   "metadata": {
    "id": "8ded96ff"
   },
   "source": [
    "5. Write a program that asks the user to enter an integer number that represents the total number of hours the user has worked per week. Your program should calculate and print the total amount of money the user earns per week.\n",
    "- If the user enters a number less than 0 or more than 168, your program must print INVALID.\n",
    "- you earn 8 dollars per hour in the first 40 hours.\n",
    "- you earn 9 dollars per hour for working overtime between 41 to 50. \n",
    "- you earn 10 dollars for working overtime more than 50 hours.\n",
    "\n",
    "- Example1: if the user enters 41, the program should print \"YOU MADE 329 DOLLARS THIS WEEK\"\n",
    "- Example2: if the user enters 70, the program should print \"YOU MADE 610  DOLLARS THIS WEEK\"\n"
   ]
  },
  {
   "cell_type": "markdown",
   "id": "1b250e1f",
   "metadata": {},
   "source": [
    "$\\color{red}{\\text{This is wrong}}$.\n",
    "$\\color{red}{\\text{Think more if you don't come up with the answer I will send it to you}}$"
   ]
  },
  {
   "cell_type": "code",
   "execution_count": 19,
   "id": "c9fb20b6",
   "metadata": {
    "colab": {
     "base_uri": "https://localhost:8080/"
    },
    "executionInfo": {
     "elapsed": 3959,
     "status": "ok",
     "timestamp": 1629908362985,
     "user": {
      "displayName": "mehrnosh ka",
      "photoUrl": "https://lh3.googleusercontent.com/a-/AOh14GjLR9fa90VorDlU1KaOLQbtRe_z3xiEK6cQDH9nWA=s64",
      "userId": "16791551701072887204"
     },
     "user_tz": 420
    },
    "id": "c9fb20b6",
    "outputId": "9763f862-3e1f-4b58-bebe-6406f63ae7f7"
   },
   "outputs": [
    {
     "name": "stdout",
     "output_type": "stream",
     "text": [
      "enter an integer number that represents the total number of hours the user has worked per week: 70\n",
      "YOU MADE 610 DOLLARS THIS WEEK\n"
     ]
    }
   ],
   "source": [
    "hour= input('enter an integer number that represents the total number of hours the user has worked per week: ')\n",
    "num=int(hour)\n",
    "if num<0 and num>168:  # This is Or statement, if the number is less than zero or more than 168\n",
    "  print('INVALID')\n",
    "elif num<=40:\n",
    "  salary=num*8\n",
    "  print('your weekly salary is: ', salary)\n",
    "elif num==41:\n",
    "  salary=num*10\n",
    "  print('YOU MADE 329 DOLLARS THIS WEEK')\n",
    "elif num>41 and num<=50:\n",
    "  salary=num*10\n",
    "  print('your weekly salary is: ', salary)\n",
    "elif  num>=51 and num<70:\n",
    "  salary=num*10\n",
    "  print('your weekly salary is: ', salary)\n",
    "elif  num==70:\n",
    "  print('YOU MADE 610 DOLLARS THIS WEEK') \n",
    "elif  num>=71 and num<168:\n",
    "  salary=num*10\n",
    "  print('your weekly salary is: ', salary)\n",
    "else:\n",
    "  print('INVALID')"
   ]
  },
  {
   "cell_type": "markdown",
   "id": "bf19809f",
   "metadata": {
    "id": "bf19809f"
   },
   "source": [
    "6. write a program that convert a given integer to days, hours, minutes and seconds\n",
    "- Example: input: 369121517 output: 1 days 12 hours 0 minutes 0 seconds"
   ]
  },
  {
   "cell_type": "markdown",
   "id": "97ec344a",
   "metadata": {},
   "source": [
    "# &#9745;"
   ]
  },
  {
   "cell_type": "code",
   "execution_count": 51,
   "id": "99ba2e46",
   "metadata": {
    "colab": {
     "base_uri": "https://localhost:8080/"
    },
    "executionInfo": {
     "elapsed": 4255,
     "status": "ok",
     "timestamp": 1629909787356,
     "user": {
      "displayName": "mehrnosh ka",
      "photoUrl": "https://lh3.googleusercontent.com/a-/AOh14GjLR9fa90VorDlU1KaOLQbtRe_z3xiEK6cQDH9nWA=s64",
      "userId": "16791551701072887204"
     },
     "user_tz": 420
    },
    "id": "99ba2e46",
    "outputId": "f22d8e9b-7dcc-490f-b3f9-51e1b620bd67"
   },
   "outputs": [
    {
     "name": "stdout",
     "output_type": "stream",
     "text": [
      "Input time in seconds: 1254879\n",
      "d:h:m:s 14 12 34 39\n"
     ]
    }
   ],
   "source": [
    "seca=int(input('Input time in seconds: '))\n",
    "day=seca//86400\n",
    "timer=seca-day*86400\n",
    "hour=timer//3600\n",
    "hourr=timer-hour*3600\n",
    "min= hourr//60\n",
    "sec=hourr-min*60\n",
    "print('d:h:m:s',day,hour,min,sec)"
   ]
  },
  {
   "cell_type": "markdown",
   "id": "57e8fb22",
   "metadata": {
    "id": "57e8fb22"
   },
   "source": [
    "7. write a program that computes the factorial of an integer number  #(with While Loop)\n",
    "- Example: input:5 , output:120"
   ]
  },
  {
   "cell_type": "markdown",
   "id": "248cf32c",
   "metadata": {},
   "source": [
    "$\\color{red}{\\text{This program works fine except for zero, 0!=1}}$"
   ]
  },
  {
   "cell_type": "code",
   "execution_count": 44,
   "id": "c7b32345",
   "metadata": {
    "colab": {
     "base_uri": "https://localhost:8080/"
    },
    "executionInfo": {
     "elapsed": 3522,
     "status": "ok",
     "timestamp": 1629912056820,
     "user": {
      "displayName": "mehrnosh ka",
      "photoUrl": "https://lh3.googleusercontent.com/a-/AOh14GjLR9fa90VorDlU1KaOLQbtRe_z3xiEK6cQDH9nWA=s64",
      "userId": "16791551701072887204"
     },
     "user_tz": 420
    },
    "id": "c7b32345",
    "outputId": "7808c753-8efd-4bae-dd06-1a3dd81348f1"
   },
   "outputs": [
    {
     "name": "stdout",
     "output_type": "stream",
     "text": [
      "insert your number: 5\n",
      "120\n"
     ]
    }
   ],
   "source": [
    "num=int(input('insert your number: '))\n",
    "i=1\n",
    "factor=num\n",
    "while i<num:\n",
    "  factor=factor*(num-i)\n",
    "  i=i+1\n",
    "print(factor)"
   ]
  },
  {
   "cell_type": "markdown",
   "id": "f7ae1b49",
   "metadata": {
    "id": "f7ae1b49"
   },
   "source": [
    "8. Write a program that uses the while loop to print the sum of all the numbers between 1 and 1200 that their remainder by 3 is one."
   ]
  },
  {
   "cell_type": "markdown",
   "id": "c46437c3",
   "metadata": {},
   "source": [
    "$\\color{red}{\\text{i should be less than 1200 not 10, But it's OK}}$"
   ]
  },
  {
   "cell_type": "code",
   "execution_count": 37,
   "id": "7c6cfc2c",
   "metadata": {
    "id": "7c6cfc2c"
   },
   "outputs": [
    {
     "name": "stdout",
     "output_type": "stream",
     "text": [
      "sum is 167167\n"
     ]
    }
   ],
   "source": [
    "i=1\n",
    "sum=0\n",
    "while i<=10:\n",
    "  r=i%3\n",
    "#   print(r)\n",
    "  if r==1:\n",
    "    sum=sum+i\n",
    "  i=i+1\n",
    "print('sum is', sum)"
   ]
  },
  {
   "cell_type": "markdown",
   "id": "440357ed",
   "metadata": {
    "id": "440357ed"
   },
   "source": [
    "9. Write a program which repeatedly reads numbers until the user enters\n",
    "“done”. Once “done” is entered, print out the total, count, and average of the\n",
    "numbers. "
   ]
  },
  {
   "cell_type": "markdown",
   "id": "0f930e1c",
   "metadata": {},
   "source": [
    "# &#9745;"
   ]
  },
  {
   "cell_type": "code",
   "execution_count": 42,
   "id": "q8u6VRQBVg7a",
   "metadata": {
    "colab": {
     "base_uri": "https://localhost:8080/"
    },
    "executionInfo": {
     "elapsed": 11999,
     "status": "ok",
     "timestamp": 1629913527017,
     "user": {
      "displayName": "mehrnosh ka",
      "photoUrl": "https://lh3.googleusercontent.com/a-/AOh14GjLR9fa90VorDlU1KaOLQbtRe_z3xiEK6cQDH9nWA=s64",
      "userId": "16791551701072887204"
     },
     "user_tz": 420
    },
    "id": "q8u6VRQBVg7a",
    "outputId": "c018f8dc-b8d1-470d-e290-0ca0843af723"
   },
   "outputs": [
    {
     "name": "stdout",
     "output_type": "stream",
     "text": [
      "Enter a number11\n",
      "Enter a number18\n",
      "Enter a numberdone\n",
      "all done\n",
      "29 2 14.5\n"
     ]
    }
   ],
   "source": [
    "num = 0\n",
    "tot = 0\n",
    "while True:\n",
    "    number = input(\"Enter a number\")\n",
    "    if number == 'done':\n",
    "        break\n",
    "    else: \n",
    "        num1=int(number)\n",
    "        num = num+1\n",
    "        tot = tot + num1\n",
    "print ('all done')\n",
    "print (tot,num,tot/num)"
   ]
  }
 ],
 "metadata": {
  "colab": {
   "collapsed_sections": [],
   "name": "Exercise 1.ipynb",
   "provenance": []
  },
  "kernelspec": {
   "display_name": "Python 3.8 (tensorflow)",
   "language": "python",
   "name": "tensorflow"
  },
  "language_info": {
   "codemirror_mode": {
    "name": "ipython",
    "version": 3
   },
   "file_extension": ".py",
   "mimetype": "text/x-python",
   "name": "python",
   "nbconvert_exporter": "python",
   "pygments_lexer": "ipython3",
   "version": "3.8.10"
  }
 },
 "nbformat": 4,
 "nbformat_minor": 5
}
